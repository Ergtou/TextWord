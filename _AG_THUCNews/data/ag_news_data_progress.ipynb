{
 "cells": [
  {
   "cell_type": "code",
   "execution_count": 3,
   "metadata": {},
   "outputs": [
    {
     "name": "stdout",
     "output_type": "stream",
     "text": [
      "\"3\",\"Wall St. Bears Claw Back Into the Black (Reuters)\",\"Reuters - Short-sellers, Wall Street's dwindling\\band of ultra-cynics, are seeing green again.\"\n",
      "\n"
     ]
    }
   ],
   "source": [
    "with open(\"train.csv\",\"r\",encoding=\"utf-8\") as f:\n",
    "    line = f.readline()\n",
    "    print(line)"
   ]
  },
  {
   "cell_type": "code",
   "execution_count": 11,
   "metadata": {},
   "outputs": [],
   "source": [
    "import csv\n",
    "csv_reader = csv.reader(open(\"train.csv\"))\n",
    "with open(\"train.txt\",\"w\",encoding=\"utf-8\") as f:\n",
    "    for row in csv_reader:\n",
    "        f.write(row[1]+\" \"+row[2]+\"\\t\"+str(int(row[0])-1)+\"\\n\")\n",
    "\n",
    "csv_reader = csv.reader(open(\"test.csv\"))\n",
    "with open(\"test.txt\",\"w\",encoding=\"utf-8\") as f:\n",
    "    for row in csv_reader:\n",
    "        f.write(row[1]+\" \"+row[2]+\"\\t\"+str(int(row[0])-1)+\"\\n\")"
   ]
  },
  {
   "cell_type": "code",
   "execution_count": null,
   "metadata": {},
   "outputs": [],
   "source": []
  }
 ],
 "metadata": {
  "kernelspec": {
   "display_name": "Python 3",
   "language": "python",
   "name": "python3"
  },
  "language_info": {
   "codemirror_mode": {
    "name": "ipython",
    "version": 3
   },
   "file_extension": ".py",
   "mimetype": "text/x-python",
   "name": "python",
   "nbconvert_exporter": "python",
   "pygments_lexer": "ipython3",
   "version": "3.7.3"
  }
 },
 "nbformat": 4,
 "nbformat_minor": 2
}
